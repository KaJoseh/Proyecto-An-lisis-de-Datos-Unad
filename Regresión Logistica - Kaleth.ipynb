{
 "cells": [
  {
   "cell_type": "markdown",
   "id": "e07ee0dd-5f0f-4383-9fcf-905a6fa5d976",
   "metadata": {},
   "source": [
    "## Tarea 5: Proyecto Análisis de Datos - Kaleth Cristancho\n",
    "\n",
    "### Pasos de la actividad - Regresión Logística\n",
    "1. Realizar un análisis exploratorio de los datos para identificar relaciones entre variables, valores atípicos, tendencias, etc.\n",
    "2. Preprocesar los datos limpiándolos, tratando valores faltantes y transformándolos según sea necesario.\n",
    "3. Seleccionar las características más relevantes para entrenar el modelo utilizando selección de características.\n",
    "4. Dividir el dataset en Train y Test para evaluar correctamente el modelo.\n",
    "5. Entrenar el modelo configurando los diferentes hiperparámetros.\n",
    "6. Evaluar el desempeño del modelo en el conjunto de Test con métricas como precisión, recall, F1-score, etc.\n",
    "7. Realizar las diferentes gráficas que permitan visualizar los resultados del modelo.\n",
    "8. Interpretar, analizar y documentar los resultados obtenidos."
   ]
  },
  {
   "cell_type": "markdown",
   "id": "5caab4fa-2306-4ef3-8996-591cf3cbbc7c",
   "metadata": {},
   "source": [
    "## 1. Realizar un análisis exploratorio de los datos para identificar relaciones entre variables, valores atípicos, tendencias, etc."
   ]
  },
  {
   "cell_type": "code",
   "execution_count": 199,
   "id": "ac2d2139-7ea1-4e95-a0d9-fc691789aaed",
   "metadata": {},
   "outputs": [],
   "source": [
    "#cargar las librerias necesarias\n",
    "import pandas as pd #maneja y analisa estructura de datos.\n",
    "import numpy as np # calculo numerico y el analisis de datos\n",
    "import seaborn as sns # creacion graficos estadisticos\n",
    "import matplotlib.pyplot as plt # crea graficos en 2 dimensiones\n",
    "\n",
    "# librerias para implementar modelo de ciencia de datos\n",
    "from sklearn import metrics\n",
    "from sklearn.model_selection import train_test_split\n",
    "from sklearn.linear_model import LogisticRegression\n",
    "from sklearn.metrics import classification_report, confusion_matrix"
   ]
  },
  {
   "cell_type": "code",
   "execution_count": 200,
   "id": "cb98e818-f34a-416e-9460-273c77425eb1",
   "metadata": {},
   "outputs": [],
   "source": [
    "# Lectura de datos y se cargan en la variable datos\n",
    "Dataset = pd.read_csv('./Titanic-Dataset.csv')"
   ]
  },
  {
   "cell_type": "code",
   "execution_count": 201,
   "id": "abeb5acc-77d5-4d8e-a9ee-13b8642d0ff3",
   "metadata": {},
   "outputs": [
    {
     "data": {
      "text/html": [
       "<div>\n",
       "<style scoped>\n",
       "    .dataframe tbody tr th:only-of-type {\n",
       "        vertical-align: middle;\n",
       "    }\n",
       "\n",
       "    .dataframe tbody tr th {\n",
       "        vertical-align: top;\n",
       "    }\n",
       "\n",
       "    .dataframe thead th {\n",
       "        text-align: right;\n",
       "    }\n",
       "</style>\n",
       "<table border=\"1\" class=\"dataframe\">\n",
       "  <thead>\n",
       "    <tr style=\"text-align: right;\">\n",
       "      <th></th>\n",
       "      <th>PassengerId</th>\n",
       "      <th>Survived</th>\n",
       "      <th>Pclass</th>\n",
       "      <th>Name</th>\n",
       "      <th>Sex</th>\n",
       "      <th>Age</th>\n",
       "      <th>SibSp</th>\n",
       "      <th>Parch</th>\n",
       "      <th>Ticket</th>\n",
       "      <th>Fare</th>\n",
       "      <th>Cabin</th>\n",
       "      <th>Embarked</th>\n",
       "    </tr>\n",
       "  </thead>\n",
       "  <tbody>\n",
       "    <tr>\n",
       "      <th>0</th>\n",
       "      <td>1</td>\n",
       "      <td>0</td>\n",
       "      <td>3</td>\n",
       "      <td>Braund, Mr. Owen Harris</td>\n",
       "      <td>male</td>\n",
       "      <td>22.0</td>\n",
       "      <td>1</td>\n",
       "      <td>0</td>\n",
       "      <td>A/5 21171</td>\n",
       "      <td>7.2500</td>\n",
       "      <td>NaN</td>\n",
       "      <td>S</td>\n",
       "    </tr>\n",
       "    <tr>\n",
       "      <th>1</th>\n",
       "      <td>2</td>\n",
       "      <td>1</td>\n",
       "      <td>1</td>\n",
       "      <td>Cumings, Mrs. John Bradley (Florence Briggs Th...</td>\n",
       "      <td>female</td>\n",
       "      <td>38.0</td>\n",
       "      <td>1</td>\n",
       "      <td>0</td>\n",
       "      <td>PC 17599</td>\n",
       "      <td>71.2833</td>\n",
       "      <td>C85</td>\n",
       "      <td>C</td>\n",
       "    </tr>\n",
       "    <tr>\n",
       "      <th>2</th>\n",
       "      <td>3</td>\n",
       "      <td>1</td>\n",
       "      <td>3</td>\n",
       "      <td>Heikkinen, Miss. Laina</td>\n",
       "      <td>female</td>\n",
       "      <td>26.0</td>\n",
       "      <td>0</td>\n",
       "      <td>0</td>\n",
       "      <td>STON/O2. 3101282</td>\n",
       "      <td>7.9250</td>\n",
       "      <td>NaN</td>\n",
       "      <td>S</td>\n",
       "    </tr>\n",
       "    <tr>\n",
       "      <th>3</th>\n",
       "      <td>4</td>\n",
       "      <td>1</td>\n",
       "      <td>1</td>\n",
       "      <td>Futrelle, Mrs. Jacques Heath (Lily May Peel)</td>\n",
       "      <td>female</td>\n",
       "      <td>35.0</td>\n",
       "      <td>1</td>\n",
       "      <td>0</td>\n",
       "      <td>113803</td>\n",
       "      <td>53.1000</td>\n",
       "      <td>C123</td>\n",
       "      <td>S</td>\n",
       "    </tr>\n",
       "    <tr>\n",
       "      <th>4</th>\n",
       "      <td>5</td>\n",
       "      <td>0</td>\n",
       "      <td>3</td>\n",
       "      <td>Allen, Mr. William Henry</td>\n",
       "      <td>male</td>\n",
       "      <td>35.0</td>\n",
       "      <td>0</td>\n",
       "      <td>0</td>\n",
       "      <td>373450</td>\n",
       "      <td>8.0500</td>\n",
       "      <td>NaN</td>\n",
       "      <td>S</td>\n",
       "    </tr>\n",
       "    <tr>\n",
       "      <th>5</th>\n",
       "      <td>6</td>\n",
       "      <td>0</td>\n",
       "      <td>3</td>\n",
       "      <td>Moran, Mr. James</td>\n",
       "      <td>male</td>\n",
       "      <td>NaN</td>\n",
       "      <td>0</td>\n",
       "      <td>0</td>\n",
       "      <td>330877</td>\n",
       "      <td>8.4583</td>\n",
       "      <td>NaN</td>\n",
       "      <td>Q</td>\n",
       "    </tr>\n",
       "    <tr>\n",
       "      <th>6</th>\n",
       "      <td>7</td>\n",
       "      <td>0</td>\n",
       "      <td>1</td>\n",
       "      <td>McCarthy, Mr. Timothy J</td>\n",
       "      <td>male</td>\n",
       "      <td>54.0</td>\n",
       "      <td>0</td>\n",
       "      <td>0</td>\n",
       "      <td>17463</td>\n",
       "      <td>51.8625</td>\n",
       "      <td>E46</td>\n",
       "      <td>S</td>\n",
       "    </tr>\n",
       "    <tr>\n",
       "      <th>7</th>\n",
       "      <td>8</td>\n",
       "      <td>0</td>\n",
       "      <td>3</td>\n",
       "      <td>Palsson, Master. Gosta Leonard</td>\n",
       "      <td>male</td>\n",
       "      <td>2.0</td>\n",
       "      <td>3</td>\n",
       "      <td>1</td>\n",
       "      <td>349909</td>\n",
       "      <td>21.0750</td>\n",
       "      <td>NaN</td>\n",
       "      <td>S</td>\n",
       "    </tr>\n",
       "    <tr>\n",
       "      <th>8</th>\n",
       "      <td>9</td>\n",
       "      <td>1</td>\n",
       "      <td>3</td>\n",
       "      <td>Johnson, Mrs. Oscar W (Elisabeth Vilhelmina Berg)</td>\n",
       "      <td>female</td>\n",
       "      <td>27.0</td>\n",
       "      <td>0</td>\n",
       "      <td>2</td>\n",
       "      <td>347742</td>\n",
       "      <td>11.1333</td>\n",
       "      <td>NaN</td>\n",
       "      <td>S</td>\n",
       "    </tr>\n",
       "    <tr>\n",
       "      <th>9</th>\n",
       "      <td>10</td>\n",
       "      <td>1</td>\n",
       "      <td>2</td>\n",
       "      <td>Nasser, Mrs. Nicholas (Adele Achem)</td>\n",
       "      <td>female</td>\n",
       "      <td>14.0</td>\n",
       "      <td>1</td>\n",
       "      <td>0</td>\n",
       "      <td>237736</td>\n",
       "      <td>30.0708</td>\n",
       "      <td>NaN</td>\n",
       "      <td>C</td>\n",
       "    </tr>\n",
       "  </tbody>\n",
       "</table>\n",
       "</div>"
      ],
      "text/plain": [
       "   PassengerId  Survived  Pclass  \\\n",
       "0            1         0       3   \n",
       "1            2         1       1   \n",
       "2            3         1       3   \n",
       "3            4         1       1   \n",
       "4            5         0       3   \n",
       "5            6         0       3   \n",
       "6            7         0       1   \n",
       "7            8         0       3   \n",
       "8            9         1       3   \n",
       "9           10         1       2   \n",
       "\n",
       "                                                Name     Sex   Age  SibSp  \\\n",
       "0                            Braund, Mr. Owen Harris    male  22.0      1   \n",
       "1  Cumings, Mrs. John Bradley (Florence Briggs Th...  female  38.0      1   \n",
       "2                             Heikkinen, Miss. Laina  female  26.0      0   \n",
       "3       Futrelle, Mrs. Jacques Heath (Lily May Peel)  female  35.0      1   \n",
       "4                           Allen, Mr. William Henry    male  35.0      0   \n",
       "5                                   Moran, Mr. James    male   NaN      0   \n",
       "6                            McCarthy, Mr. Timothy J    male  54.0      0   \n",
       "7                     Palsson, Master. Gosta Leonard    male   2.0      3   \n",
       "8  Johnson, Mrs. Oscar W (Elisabeth Vilhelmina Berg)  female  27.0      0   \n",
       "9                Nasser, Mrs. Nicholas (Adele Achem)  female  14.0      1   \n",
       "\n",
       "   Parch            Ticket     Fare Cabin Embarked  \n",
       "0      0         A/5 21171   7.2500   NaN        S  \n",
       "1      0          PC 17599  71.2833   C85        C  \n",
       "2      0  STON/O2. 3101282   7.9250   NaN        S  \n",
       "3      0            113803  53.1000  C123        S  \n",
       "4      0            373450   8.0500   NaN        S  \n",
       "5      0            330877   8.4583   NaN        Q  \n",
       "6      0             17463  51.8625   E46        S  \n",
       "7      1            349909  21.0750   NaN        S  \n",
       "8      2            347742  11.1333   NaN        S  \n",
       "9      0            237736  30.0708   NaN        C  "
      ]
     },
     "execution_count": 201,
     "metadata": {},
     "output_type": "execute_result"
    }
   ],
   "source": [
    "# se realiza la lectura de los datos para el analisis exploratorio\n",
    "Dataset.head(10)"
   ]
  },
  {
   "cell_type": "code",
   "execution_count": 202,
   "id": "834977e2-955e-480b-beb8-bf9a1e3536f6",
   "metadata": {},
   "outputs": [
    {
     "data": {
      "text/html": [
       "<div>\n",
       "<style scoped>\n",
       "    .dataframe tbody tr th:only-of-type {\n",
       "        vertical-align: middle;\n",
       "    }\n",
       "\n",
       "    .dataframe tbody tr th {\n",
       "        vertical-align: top;\n",
       "    }\n",
       "\n",
       "    .dataframe thead th {\n",
       "        text-align: right;\n",
       "    }\n",
       "</style>\n",
       "<table border=\"1\" class=\"dataframe\">\n",
       "  <thead>\n",
       "    <tr style=\"text-align: right;\">\n",
       "      <th></th>\n",
       "      <th>PassengerId</th>\n",
       "      <th>Survived</th>\n",
       "      <th>Pclass</th>\n",
       "      <th>Age</th>\n",
       "      <th>SibSp</th>\n",
       "      <th>Parch</th>\n",
       "      <th>Fare</th>\n",
       "    </tr>\n",
       "  </thead>\n",
       "  <tbody>\n",
       "    <tr>\n",
       "      <th>count</th>\n",
       "      <td>891.000000</td>\n",
       "      <td>891.000000</td>\n",
       "      <td>891.000000</td>\n",
       "      <td>714.000000</td>\n",
       "      <td>891.000000</td>\n",
       "      <td>891.000000</td>\n",
       "      <td>891.000000</td>\n",
       "    </tr>\n",
       "    <tr>\n",
       "      <th>mean</th>\n",
       "      <td>446.000000</td>\n",
       "      <td>0.383838</td>\n",
       "      <td>2.308642</td>\n",
       "      <td>29.699118</td>\n",
       "      <td>0.523008</td>\n",
       "      <td>0.381594</td>\n",
       "      <td>32.204208</td>\n",
       "    </tr>\n",
       "    <tr>\n",
       "      <th>std</th>\n",
       "      <td>257.353842</td>\n",
       "      <td>0.486592</td>\n",
       "      <td>0.836071</td>\n",
       "      <td>14.526497</td>\n",
       "      <td>1.102743</td>\n",
       "      <td>0.806057</td>\n",
       "      <td>49.693429</td>\n",
       "    </tr>\n",
       "    <tr>\n",
       "      <th>min</th>\n",
       "      <td>1.000000</td>\n",
       "      <td>0.000000</td>\n",
       "      <td>1.000000</td>\n",
       "      <td>0.420000</td>\n",
       "      <td>0.000000</td>\n",
       "      <td>0.000000</td>\n",
       "      <td>0.000000</td>\n",
       "    </tr>\n",
       "    <tr>\n",
       "      <th>25%</th>\n",
       "      <td>223.500000</td>\n",
       "      <td>0.000000</td>\n",
       "      <td>2.000000</td>\n",
       "      <td>20.125000</td>\n",
       "      <td>0.000000</td>\n",
       "      <td>0.000000</td>\n",
       "      <td>7.910400</td>\n",
       "    </tr>\n",
       "    <tr>\n",
       "      <th>50%</th>\n",
       "      <td>446.000000</td>\n",
       "      <td>0.000000</td>\n",
       "      <td>3.000000</td>\n",
       "      <td>28.000000</td>\n",
       "      <td>0.000000</td>\n",
       "      <td>0.000000</td>\n",
       "      <td>14.454200</td>\n",
       "    </tr>\n",
       "    <tr>\n",
       "      <th>75%</th>\n",
       "      <td>668.500000</td>\n",
       "      <td>1.000000</td>\n",
       "      <td>3.000000</td>\n",
       "      <td>38.000000</td>\n",
       "      <td>1.000000</td>\n",
       "      <td>0.000000</td>\n",
       "      <td>31.000000</td>\n",
       "    </tr>\n",
       "    <tr>\n",
       "      <th>max</th>\n",
       "      <td>891.000000</td>\n",
       "      <td>1.000000</td>\n",
       "      <td>3.000000</td>\n",
       "      <td>80.000000</td>\n",
       "      <td>8.000000</td>\n",
       "      <td>6.000000</td>\n",
       "      <td>512.329200</td>\n",
       "    </tr>\n",
       "  </tbody>\n",
       "</table>\n",
       "</div>"
      ],
      "text/plain": [
       "       PassengerId    Survived      Pclass         Age       SibSp  \\\n",
       "count   891.000000  891.000000  891.000000  714.000000  891.000000   \n",
       "mean    446.000000    0.383838    2.308642   29.699118    0.523008   \n",
       "std     257.353842    0.486592    0.836071   14.526497    1.102743   \n",
       "min       1.000000    0.000000    1.000000    0.420000    0.000000   \n",
       "25%     223.500000    0.000000    2.000000   20.125000    0.000000   \n",
       "50%     446.000000    0.000000    3.000000   28.000000    0.000000   \n",
       "75%     668.500000    1.000000    3.000000   38.000000    1.000000   \n",
       "max     891.000000    1.000000    3.000000   80.000000    8.000000   \n",
       "\n",
       "            Parch        Fare  \n",
       "count  891.000000  891.000000  \n",
       "mean     0.381594   32.204208  \n",
       "std      0.806057   49.693429  \n",
       "min      0.000000    0.000000  \n",
       "25%      0.000000    7.910400  \n",
       "50%      0.000000   14.454200  \n",
       "75%      0.000000   31.000000  \n",
       "max      6.000000  512.329200  "
      ]
     },
     "execution_count": 202,
     "metadata": {},
     "output_type": "execute_result"
    }
   ],
   "source": [
    "#Describir los datos\n",
    "Dataset.describe()"
   ]
  },
  {
   "cell_type": "code",
   "execution_count": 203,
   "id": "ed74da7d-039c-4613-8090-ff7b8f1c494c",
   "metadata": {},
   "outputs": [
    {
     "data": {
      "image/png": "[encoded data removed]",
      "text/plain": [
       "<Figure size 1000x500 with 4 Axes>"
      ]
     },
     "metadata": {},
     "output_type": "display_data"
    }
   ],
   "source": [
    "# Identificacion de valores faltantes y atipicos\n",
    "fig, axs = plt.subplots(2,2, figsize = (10,5))\n",
    "plt1 = sns.boxplot(Dataset['Survived'], ax = axs[0,0]).set_title(\"índice Supervivencia\")\n",
    "plt2 = sns.boxplot(Dataset['Pclass'], ax = axs[0,1]).set_title(\"Clase de Ticket\")\n",
    "plt3 = sns.boxplot(Dataset['Age'], ax = axs[1,0]).set_title(\"Edad\")\n",
    "plt1 = sns.boxplot(Dataset['Fare'], ax = axs[1,1]).set_title(\"Precio\")\n",
    "\n",
    "plt.tight_layout()"
   ]
  },
  {
   "cell_type": "code",
   "execution_count": 204,
   "id": "42799f5b-33af-4752-afed-733f75751424",
   "metadata": {},
   "outputs": [
    {
     "data": {
      "text/plain": [
       "Text(0.5, 1.0, 'Cantidad de sobrevivientes')"
      ]
     },
     "execution_count": 204,
     "metadata": {},
     "output_type": "execute_result"
    },
    {
     "data": {
      "image/png": "[encoded data removed]",
      "text/plain": [
       "<Figure size 640x480 with 1 Axes>"
      ]
     },
     "metadata": {},
     "output_type": "display_data"
    }
   ],
   "source": [
    "#Lista de sobrevivientes\n",
    "data = Dataset[['Survived']].astype(str)\n",
    "sns.countplot(x='Survived', data=data.dropna()).set_title(\"Cantidad de sobrevivientes\")"
   ]
  },
  {
   "cell_type": "code",
   "execution_count": 205,
   "id": "7032e5a1-4bed-4b49-ae22-ad59de01c261",
   "metadata": {},
   "outputs": [
    {
     "data": {
      "text/plain": [
       "Text(0.5, 1.0, 'Sobreviventes por Género')"
      ]
     },
     "execution_count": 205,
     "metadata": {},
     "output_type": "execute_result"
    },
    {
     "data": {
      "image/png": "[encoded data removed]",
      "text/plain": [
       "<Figure size 640x480 with 1 Axes>"
      ]
     },
     "metadata": {},
     "output_type": "display_data"
    }
   ],
   "source": [
    "#Comparación de sobrevivientes por género\n",
    "data = Dataset[['Survived', 'Sex']].astype(str)\n",
    "sns.countplot(x='Survived', hue='Sex', data=data.dropna()).set_title(\"Sobreviventes por Género\")"
   ]
  },
  {
   "cell_type": "markdown",
   "id": "8a5f7d0a-73ee-4b42-9382-42ce7cb9f35b",
   "metadata": {},
   "source": [
    "Se observa que de los supervivientes, la mayoría fueron del sexo femenino. Por otro lado, fue el sexo masculino quien menos sobrevivió."
   ]
  },
  {
   "cell_type": "code",
   "execution_count": 206,
   "id": "00480eeb-a3b5-49c5-9e66-20d7cd9b5310",
   "metadata": {},
   "outputs": [
    {
     "data": {
      "text/plain": [
       "Text(0.5, 1.0, 'Sobrevivientes por Clase')"
      ]
     },
     "execution_count": 206,
     "metadata": {},
     "output_type": "execute_result"
    },
    {
     "data": {
      "image/png": "[encoded data removed]",
      "text/plain": [
       "<Figure size 640x480 with 1 Axes>"
      ]
     },
     "metadata": {},
     "output_type": "display_data"
    }
   ],
   "source": [
    "#Comparación de sobrevivientes por clase\n",
    "data = Dataset[['Survived', 'Pclass']].astype(str)\n",
    "sns.countplot(x='Survived', hue='Pclass', data=data.dropna()).set_title(\"Sobrevivientes por Clase\")"
   ]
  },
  {
   "cell_type": "markdown",
   "id": "12568591-6816-4a38-a604-f02335fecf51",
   "metadata": {},
   "source": [
    "Se observa que de entre las 3 clases disponibles en el Titanic, la que más sobrevivientes tuvo fue la clase 1, mientras que la que más muertos presentó fue la clase 3."
   ]
  },
  {
   "cell_type": "code",
   "execution_count": 207,
   "id": "86aa9818-20dc-4276-b0f4-feb606f319bd",
   "metadata": {},
   "outputs": [
    {
     "data": {
      "text/plain": [
       "Text(0.5, 1.0, 'Sobrevivientes por Embarcaciones')"
      ]
     },
     "execution_count": 207,
     "metadata": {},
     "output_type": "execute_result"
    },
    {
     "data": {
      "image/png": "[encoded data removed]",
      "text/plain": [
       "<Figure size 640x480 with 1 Axes>"
      ]
     },
     "metadata": {},
     "output_type": "display_data"
    }
   ],
   "source": [
    "#Comparación de sobrevivientes por embarcaciones\n",
    "data = Dataset[['Survived', 'Embarked']].dropna().astype(str)\n",
    "sns.countplot(x='Survived', hue='Embarked', data=data).set_title(\"Sobrevivientes por Embarcaciones\")"
   ]
  },
  {
   "cell_type": "markdown",
   "id": "9ef845a6-bcf5-4d16-9261-4929cdb912c0",
   "metadata": {},
   "source": [
    "Se observa que la embarcación con un mayor índice de supervivientes y no supervivientes fue la S, mientras que la Q fue la embarcación con un menor índice para ambos escenarios."
   ]
  },
  {
   "cell_type": "markdown",
   "id": "3ab0abbb-0e9d-4a25-b8df-e930650ee7b4",
   "metadata": {},
   "source": [
    "## 2. Preprocesar los datos limpiándolos, tratando valores faltantes y transformándolos según sea necesario."
   ]
  },
  {
   "cell_type": "markdown",
   "id": "dc040d46-c526-4a92-9090-b181a55a2837",
   "metadata": {},
   "source": [
    "### Datos faltantes"
   ]
  },
  {
   "cell_type": "code",
   "execution_count": 208,
   "id": "4d2472ae-f4d5-43c4-9791-20367c1fa887",
   "metadata": {},
   "outputs": [
    {
     "name": "stdout",
     "output_type": "stream",
     "text": [
      "Cantidad de registros nulos en Id:  0\n",
      "Cantidad de registros nulos en Clase del ticket:  0\n",
      "Cantidad de registros nulos en Género:  0\n",
      "Cantidad de registros nulos en Edad:  177\n",
      "Cantidad de registros nulos en Cantidad de hermanos/parejas:  0\n",
      "Cantidad de registros nulos en Cantidad de padres/hijos:  0\n",
      "Cantidad de registros nulos en Cantidad de precios:  0\n",
      "Cantidad de registros nulos en Sobrevivió:  0\n",
      "Cantidad de registros nulos en nombre:  0\n",
      "Cantidad de registros nulos en ticket:  0\n",
      "Cantidad de registros nulos en cabina:  687\n",
      "Cantidad de registros nulos en Embarcación:  2\n"
     ]
    }
   ],
   "source": [
    "#Revision de datos faltantes\n",
    "\n",
    "#Registros numéricos\n",
    "print(\"Cantidad de registros nulos en Id: \", Dataset['PassengerId'].isna().sum())\n",
    "print(\"Cantidad de registros nulos en Clase del ticket: \", Dataset['Pclass'].isna().sum())\n",
    "print(\"Cantidad de registros nulos en Género: \", Dataset['Sex'].isna().sum())\n",
    "print(\"Cantidad de registros nulos en Edad: \", Dataset['Age'].isna().sum())\n",
    "print(\"Cantidad de registros nulos en Cantidad de hermanos/parejas: \", Dataset['SibSp'].isna().sum())\n",
    "print(\"Cantidad de registros nulos en Cantidad de padres/hijos: \", Dataset['Parch'].isna().sum())\n",
    "print(\"Cantidad de registros nulos en Cantidad de precios: \", Dataset['Fare'].isna().sum())\n",
    "\n",
    "#Registros textuales\n",
    "print(\"Cantidad de registros nulos en Sobrevivió: \", Dataset['Survived'].isna().sum())\n",
    "print(\"Cantidad de registros nulos en nombre: \", Dataset['Name'].isna().sum())\n",
    "print(\"Cantidad de registros nulos en ticket: \", Dataset['Ticket'].isna().sum())\n",
    "print(\"Cantidad de registros nulos en cabina: \", Dataset['Cabin'].isna().sum())\n",
    "print(\"Cantidad de registros nulos en Embarcación: \", Dataset['Embarked'].isna().sum())"
   ]
  },
  {
   "cell_type": "code",
   "execution_count": 209,
   "id": "029e0ae4-86df-4536-9d09-563caa557140",
   "metadata": {},
   "outputs": [],
   "source": [
    "# Reemplazar los ceros o vacíos con el valor medio o la moda de la columna\n",
    "\n",
    "#Edad\n",
    "Dataset['Age'] = Dataset['Age'].mask(Dataset['Age']=='nan', None).ffill()\n",
    "\n",
    "#Cabina - Reemplazamos valor vacío con el valor de la casilla anterior y luego la posterior\n",
    "Dataset['Cabin'] = Dataset['Cabin'].mask(Dataset['Cabin']=='nan', None).ffill()\n",
    "Dataset['Cabin'] = Dataset['Cabin'].mask(Dataset['Cabin']=='nan', None).bfill()\n",
    "\n",
    "#Embarcación - Reemplazamos valor vacío con el valor de la casilla anterior\n",
    "Dataset['Embarked'] = Dataset['Embarked'].mask(Dataset['Embarked']=='nan', None).ffill()"
   ]
  },
  {
   "cell_type": "code",
   "execution_count": 210,
   "id": "edfcb920-758d-40c3-acee-de79c8b86b7e",
   "metadata": {},
   "outputs": [
    {
     "name": "stdout",
     "output_type": "stream",
     "text": [
      "Cantidad de registros nulos en Edad:  0\n",
      "Cantidad de registros nulos en cabina:  0\n",
      "Cantidad de registros nulos en Embarcación:  0\n"
     ]
    }
   ],
   "source": [
    "#Se vuelven a verificar los datos faltantes\n",
    "\n",
    "#Registros numéricos\n",
    "print(\"Cantidad de registros nulos en Edad: \", Dataset['Age'].isna().sum())\n",
    "\n",
    "#Registros textuales\n",
    "print(\"Cantidad de registros nulos en cabina: \", Dataset['Cabin'].isna().sum())\n",
    "print(\"Cantidad de registros nulos en Embarcación: \", Dataset['Embarked'].isna().sum())"
   ]
  },
  {
   "cell_type": "markdown",
   "id": "f58045af-aecc-4c31-b82f-59ccb5ca7f20",
   "metadata": {},
   "source": [
    "### Datos Atípicos"
   ]
  },
  {
   "cell_type": "code",
   "execution_count": 211,
   "id": "99d65e96-551c-4e3a-b707-6a2e03dadc07",
   "metadata": {},
   "outputs": [
    {
     "data": {
      "image/png": "[encoded data removed]",
      "text/plain": [
       "<Figure size 1000x500 with 4 Axes>"
      ]
     },
     "metadata": {},
     "output_type": "display_data"
    }
   ],
   "source": [
    "# Identificacion de valores faltantes y atipicos\n",
    "fig, axs = plt.subplots(2,2, figsize = (10,5))\n",
    "plt1 = sns.boxplot(Dataset['Survived'], ax = axs[0,0]).set_title(\"índice Supervivencia\")\n",
    "plt2 = sns.boxplot(Dataset['Pclass'], ax = axs[0,1]).set_title(\"Clase de Ticket\")\n",
    "plt3 = sns.boxplot(Dataset['Age'], ax = axs[1,0]).set_title(\"Edad\")\n",
    "plt1 = sns.boxplot(Dataset['Fare'], ax = axs[1,1]).set_title(\"Precio\")\n",
    "\n",
    "plt.tight_layout()"
   ]
  },
  {
   "cell_type": "code",
   "execution_count": 212,
   "id": "ad24d00f-a58c-4ba9-a8fa-522c75221996",
   "metadata": {},
   "outputs": [
    {
     "name": "stdout",
     "output_type": "stream",
     "text": [
      "Total atipicos supervivencia: 0\n",
      "Total atipicos Clase: 0\n",
      "Total atipicos edad: 0\n",
      "Total atipicos Precios: 19\n"
     ]
    }
   ],
   "source": [
    "# Conteo de datos atipicos\n",
    "\n",
    "#Indice Supervivencia\n",
    "supMin = 0\n",
    "supMax = 1\n",
    "Survived_Total_Atipicos = ((Dataset['Survived']<supMin) | (Dataset['Survived']>supMax)).sum()\n",
    "print(\"Total atipicos supervivencia: {}\".format(Survived_Total_Atipicos))\n",
    "\n",
    "#Clase Ticket\n",
    "classMin = 1\n",
    "classMax = 3\n",
    "TicketClass_Atipicos = ((Dataset['Pclass']<classMin) | (Dataset['Pclass']>classMax)).sum()\n",
    "print(\"Total atipicos Clase: {}\".format(TicketClass_Atipicos))\n",
    "\n",
    "#Edad\n",
    "ageMin = 0\n",
    "ageMax = 80\n",
    "age_Atipicos = ((Dataset['Age']<ageMin) | (Dataset['Age']>ageMax)).sum()\n",
    "print(\"Total atipicos edad: {}\".format(age_Atipicos))\n",
    "\n",
    "#Precios\n",
    "priceMin = 5\n",
    "priceMax = 480\n",
    "price_Atipicos = ((Dataset['Fare']<priceMin) | (Dataset['Fare']>priceMax)).sum()\n",
    "print(\"Total atipicos Precios: {}\".format(price_Atipicos))"
   ]
  },
  {
   "cell_type": "code",
   "execution_count": 213,
   "id": "6b3cc68a-5ea8-4e84-882b-4c56b727e735",
   "metadata": {},
   "outputs": [],
   "source": [
    "# Se filtran datos atipicos\n",
    "\n",
    "#Precios\n",
    "Dataset=Dataset[(Dataset['Fare']<=priceMax)&(Dataset['Fare']>=priceMin)]"
   ]
  },
  {
   "cell_type": "code",
   "execution_count": 214,
   "id": "6cf9325b-293f-4499-9d25-2d49afb771d1",
   "metadata": {},
   "outputs": [
    {
     "name": "stdout",
     "output_type": "stream",
     "text": [
      "Total atipicos Precios: 0\n"
     ]
    }
   ],
   "source": [
    "# Se valida si se removieron los datos atipicos\n",
    "\n",
    "#Precios\n",
    "price_Atipicos = ((Dataset['Fare']<priceMin) | (Dataset['Fare']>priceMax)).sum()\n",
    "print(\"Total atipicos Precios: {}\".format(price_Atipicos))"
   ]
  },
  {
   "cell_type": "markdown",
   "id": "4521962c-e4d2-4208-a43d-0067a58bcf8f",
   "metadata": {},
   "source": [
    "### Transformación de Datos"
   ]
  },
  {
   "cell_type": "code",
   "execution_count": 215,
   "id": "257917ef-8b95-4fb8-897b-c9829a3f5722",
   "metadata": {},
   "outputs": [],
   "source": [
    "#Removemos columnas que no sean de utilidad\n",
    "Dataset.drop(['PassengerId', 'Ticket', 'Cabin', 'Name'], axis = 1, inplace = True)"
   ]
  },
  {
   "cell_type": "code",
   "execution_count": 216,
   "id": "2f598b08-a761-45df-bb95-09923c4318ea",
   "metadata": {},
   "outputs": [
    {
     "data": {
      "text/plain": [
       "Sex\n",
       "1    559\n",
       "0    313\n",
       "Name: count, dtype: int64"
      ]
     },
     "execution_count": 216,
     "metadata": {},
     "output_type": "execute_result"
    }
   ],
   "source": [
    "#Transformamos Columnas que puedan clasificarse, en este caso, género y embarcación\n",
    "Dataset.replace({'Sex': {'female': 0, 'male': 1}}, inplace=True)\n",
    "Dataset['Sex'].value_counts()"
   ]
  },
  {
   "cell_type": "code",
   "execution_count": 217,
   "id": "9be4d0d2-128c-4ffe-bbe2-5fb540493dfe",
   "metadata": {},
   "outputs": [
    {
     "data": {
      "text/plain": [
       "Embarked\n",
       "1    629\n",
       "0    165\n",
       "2     78\n",
       "Name: count, dtype: int64"
      ]
     },
     "execution_count": 217,
     "metadata": {},
     "output_type": "execute_result"
    }
   ],
   "source": [
    "Dataset.replace({'Embarked': {'C': 0, 'S': 1, 'Q': 2}}, inplace=True)\n",
    "Dataset['Embarked'].value_counts()"
   ]
  },
  {
   "cell_type": "code",
   "execution_count": 218,
   "id": "c45c8529-e91a-4410-8287-157ad2e94270",
   "metadata": {},
   "outputs": [
    {
     "data": {
      "text/html": [
       "<div>\n",
       "<style scoped>\n",
       "    .dataframe tbody tr th:only-of-type {\n",
       "        vertical-align: middle;\n",
       "    }\n",
       "\n",
       "    .dataframe tbody tr th {\n",
       "        vertical-align: top;\n",
       "    }\n",
       "\n",
       "    .dataframe thead th {\n",
       "        text-align: right;\n",
       "    }\n",
       "</style>\n",
       "<table border=\"1\" class=\"dataframe\">\n",
       "  <thead>\n",
       "    <tr style=\"text-align: right;\">\n",
       "      <th></th>\n",
       "      <th>Survived</th>\n",
       "      <th>Pclass</th>\n",
       "      <th>Sex</th>\n",
       "      <th>Age</th>\n",
       "      <th>SibSp</th>\n",
       "      <th>Parch</th>\n",
       "      <th>Fare</th>\n",
       "      <th>Embarked</th>\n",
       "    </tr>\n",
       "  </thead>\n",
       "  <tbody>\n",
       "    <tr>\n",
       "      <th>0</th>\n",
       "      <td>0</td>\n",
       "      <td>3</td>\n",
       "      <td>1</td>\n",
       "      <td>22.0</td>\n",
       "      <td>1</td>\n",
       "      <td>0</td>\n",
       "      <td>7.2500</td>\n",
       "      <td>1</td>\n",
       "    </tr>\n",
       "    <tr>\n",
       "      <th>1</th>\n",
       "      <td>1</td>\n",
       "      <td>1</td>\n",
       "      <td>0</td>\n",
       "      <td>38.0</td>\n",
       "      <td>1</td>\n",
       "      <td>0</td>\n",
       "      <td>71.2833</td>\n",
       "      <td>0</td>\n",
       "    </tr>\n",
       "    <tr>\n",
       "      <th>2</th>\n",
       "      <td>1</td>\n",
       "      <td>3</td>\n",
       "      <td>0</td>\n",
       "      <td>26.0</td>\n",
       "      <td>0</td>\n",
       "      <td>0</td>\n",
       "      <td>7.9250</td>\n",
       "      <td>1</td>\n",
       "    </tr>\n",
       "    <tr>\n",
       "      <th>3</th>\n",
       "      <td>1</td>\n",
       "      <td>1</td>\n",
       "      <td>0</td>\n",
       "      <td>35.0</td>\n",
       "      <td>1</td>\n",
       "      <td>0</td>\n",
       "      <td>53.1000</td>\n",
       "      <td>1</td>\n",
       "    </tr>\n",
       "    <tr>\n",
       "      <th>4</th>\n",
       "      <td>0</td>\n",
       "      <td>3</td>\n",
       "      <td>1</td>\n",
       "      <td>35.0</td>\n",
       "      <td>0</td>\n",
       "      <td>0</td>\n",
       "      <td>8.0500</td>\n",
       "      <td>1</td>\n",
       "    </tr>\n",
       "  </tbody>\n",
       "</table>\n",
       "</div>"
      ],
      "text/plain": [
       "   Survived  Pclass  Sex   Age  SibSp  Parch     Fare  Embarked\n",
       "0         0       3    1  22.0      1      0   7.2500         1\n",
       "1         1       1    0  38.0      1      0  71.2833         0\n",
       "2         1       3    0  26.0      0      0   7.9250         1\n",
       "3         1       1    0  35.0      1      0  53.1000         1\n",
       "4         0       3    1  35.0      0      0   8.0500         1"
      ]
     },
     "execution_count": 218,
     "metadata": {},
     "output_type": "execute_result"
    }
   ],
   "source": [
    "#revision del dataset\n",
    "Dataset.head(5)"
   ]
  },
  {
   "cell_type": "code",
   "execution_count": 219,
   "id": "6fc271db-78a9-4a85-a1f9-1e996206ee92",
   "metadata": {},
   "outputs": [
    {
     "name": "stdout",
     "output_type": "stream",
     "text": [
      "<class 'pandas.core.frame.DataFrame'>\n",
      "Index: 872 entries, 0 to 890\n",
      "Data columns (total 8 columns):\n",
      " #   Column    Non-Null Count  Dtype  \n",
      "---  ------    --------------  -----  \n",
      " 0   Survived  872 non-null    int64  \n",
      " 1   Pclass    872 non-null    int64  \n",
      " 2   Sex       872 non-null    int64  \n",
      " 3   Age       872 non-null    float64\n",
      " 4   SibSp     872 non-null    int64  \n",
      " 5   Parch     872 non-null    int64  \n",
      " 6   Fare      872 non-null    float64\n",
      " 7   Embarked  872 non-null    int64  \n",
      "dtypes: float64(2), int64(6)\n",
      "memory usage: 61.3 KB\n"
     ]
    }
   ],
   "source": [
    "#revision de tipo de datos y datos faltantes\n",
    "Dataset.info()"
   ]
  },
  {
   "cell_type": "markdown",
   "id": "455cbafb-64ef-4559-9629-3f2ddaaea68d",
   "metadata": {},
   "source": [
    "## 3. Seleccionar las características más relevantes para entrenar el modelo utilizando selección de características."
   ]
  },
  {
   "cell_type": "markdown",
   "id": "d8470655-5d2a-469c-84dc-6c79510836be",
   "metadata": {},
   "source": [
    "Característica de interes:\n",
    "* Columna 'Survived' (0 = no sobrevivió, 1 = sí) pues nos indica si una persona sobrevivió o no\n"
   ]
  },
  {
   "cell_type": "code",
   "execution_count": 220,
   "id": "568aa69d-ab4e-4d06-90b3-7ca2d155619c",
   "metadata": {},
   "outputs": [
    {
     "data": {
      "text/plain": [
       "Survived\n",
       "0    534\n",
       "1    338\n",
       "Name: count, dtype: int64"
      ]
     },
     "execution_count": 220,
     "metadata": {},
     "output_type": "execute_result"
    }
   ],
   "source": [
    "Dataset['Survived'].value_counts()"
   ]
  },
  {
   "cell_type": "code",
   "execution_count": 221,
   "id": "668ce922-a490-410c-8b74-1fdffbdb3f96",
   "metadata": {},
   "outputs": [
    {
     "data": {
      "text/html": [
       "<div>\n",
       "<style scoped>\n",
       "    .dataframe tbody tr th:only-of-type {\n",
       "        vertical-align: middle;\n",
       "    }\n",
       "\n",
       "    .dataframe tbody tr th {\n",
       "        vertical-align: top;\n",
       "    }\n",
       "\n",
       "    .dataframe thead th {\n",
       "        text-align: right;\n",
       "    }\n",
       "</style>\n",
       "<table border=\"1\" class=\"dataframe\">\n",
       "  <thead>\n",
       "    <tr style=\"text-align: right;\">\n",
       "      <th></th>\n",
       "      <th>Survived</th>\n",
       "    </tr>\n",
       "  </thead>\n",
       "  <tbody>\n",
       "    <tr>\n",
       "      <th>0</th>\n",
       "      <td>0</td>\n",
       "    </tr>\n",
       "    <tr>\n",
       "      <th>1</th>\n",
       "      <td>1</td>\n",
       "    </tr>\n",
       "    <tr>\n",
       "      <th>2</th>\n",
       "      <td>1</td>\n",
       "    </tr>\n",
       "    <tr>\n",
       "      <th>3</th>\n",
       "      <td>1</td>\n",
       "    </tr>\n",
       "    <tr>\n",
       "      <th>4</th>\n",
       "      <td>0</td>\n",
       "    </tr>\n",
       "    <tr>\n",
       "      <th>5</th>\n",
       "      <td>0</td>\n",
       "    </tr>\n",
       "    <tr>\n",
       "      <th>6</th>\n",
       "      <td>0</td>\n",
       "    </tr>\n",
       "    <tr>\n",
       "      <th>7</th>\n",
       "      <td>0</td>\n",
       "    </tr>\n",
       "    <tr>\n",
       "      <th>8</th>\n",
       "      <td>1</td>\n",
       "    </tr>\n",
       "    <tr>\n",
       "      <th>9</th>\n",
       "      <td>1</td>\n",
       "    </tr>\n",
       "  </tbody>\n",
       "</table>\n",
       "</div>"
      ],
      "text/plain": [
       "   Survived\n",
       "0         0\n",
       "1         1\n",
       "2         1\n",
       "3         1\n",
       "4         0\n",
       "5         0\n",
       "6         0\n",
       "7         0\n",
       "8         1\n",
       "9         1"
      ]
     },
     "execution_count": 221,
     "metadata": {},
     "output_type": "execute_result"
    }
   ],
   "source": [
    "Dataset[['Survived']].head(10)"
   ]
  },
  {
   "cell_type": "markdown",
   "id": "00577136-8ca9-4c74-8546-77b7e01eb239",
   "metadata": {},
   "source": [
    "## 4.  dividir el dataset en train y test para evaluar el modelo."
   ]
  },
  {
   "cell_type": "code",
   "execution_count": 222,
   "id": "c1c893e0-e369-43fe-9ab6-43faad788fbd",
   "metadata": {},
   "outputs": [],
   "source": [
    "#porcentaje de datos para entrenamiento(train) = 75%, y para prueba (test) = 25%\n",
    "# se crean variables x y Y para almacenar la informacion del entrenamiento \n",
    "\n",
    "x = Dataset.drop('Survived', axis = 1) # se cargan los datos de train sin los datos de la columna Survivied\n",
    "y = Dataset['Survived'] # Se cargan los datos de train con los datos de la columna Survived\n",
    "\n",
    "#La funcion train_test_split crea una division de un conjunto de datos en dos bloques uno de entrenamiento y otro de prueba (train and test)\n",
    "x_train, x_test, y_train, y_test = train_test_split(x, y, test_size=0.25, stratify= y, random_state= 0)\n"
   ]
  },
  {
   "cell_type": "code",
   "execution_count": 223,
   "id": "a68c26ae-0324-4448-9c27-8e85c23d2061",
   "metadata": {},
   "outputs": [
    {
     "name": "stdout",
     "output_type": "stream",
     "text": [
      "     Pclass  Sex   Age  SibSp  Parch      Fare  Embarked\n",
      "639       3    1  41.0      1      0   16.1000         1\n",
      "176       3    1  18.0      3      1   25.4667         1\n",
      "626       2    1  57.0      0      0   12.3500         2\n",
      "733       2    1  23.0      0      0   13.0000         1\n",
      "332       1    1  38.0      0      1  153.4625         1\n",
      "..      ...  ...   ...    ...    ...       ...       ...\n",
      "6         1    1  54.0      0      0   51.8625         1\n",
      "739       3    1  35.0      0      0    7.8958         1\n",
      "720       2    0   6.0      0      1   33.0000         1\n",
      "783       3    1  29.0      1      2   23.4500         1\n",
      "376       3    0  22.0      0      0    7.2500         1\n",
      "\n",
      "[654 rows x 7 columns]\n"
     ]
    }
   ],
   "source": [
    "print (x_train)"
   ]
  },
  {
   "cell_type": "code",
   "execution_count": 224,
   "id": "317aa48e-babc-46c3-88fa-80f8cde8cbdc",
   "metadata": {},
   "outputs": [
    {
     "name": "stdout",
     "output_type": "stream",
     "text": [
      "639    0\n",
      "176    0\n",
      "626    0\n",
      "733    0\n",
      "332    0\n",
      "      ..\n",
      "6      0\n",
      "739    0\n",
      "720    1\n",
      "783    0\n",
      "376    1\n",
      "Name: Survived, Length: 654, dtype: int64\n"
     ]
    }
   ],
   "source": [
    "print (y_train)"
   ]
  },
  {
   "cell_type": "markdown",
   "id": "265e272f-bc77-4ce6-b3ef-7a12dfb68416",
   "metadata": {},
   "source": [
    "## 5. Entrenar el modelo configurando los diferentes hiperparametros"
   ]
  },
  {
   "cell_type": "code",
   "execution_count": 225,
   "id": "6838ca29-8fd3-4f7c-97b4-4c75fed04c0b",
   "metadata": {},
   "outputs": [],
   "source": [
    "# Se construye el modelo de regresion logistica\n",
    "modelo_regresion = LogisticRegression(solver = \"liblinear\") # liblinear es una libreria para resolver problemas lineales de clasificacion y regresion\n",
    "modelo_regresion .fit (x_train, y_train)\n",
    "\n",
    "# crea el modelo de prediccion\n",
    "prediction = modelo_regresion.predict(x_test)# predict nos predice los valores a partir del conjunto de datos de validacion\n"
   ]
  },
  {
   "cell_type": "code",
   "execution_count": 226,
   "id": "8313125d-7566-4c54-8067-e8b893b5e12a",
   "metadata": {},
   "outputs": [
    {
     "name": "stdout",
     "output_type": "stream",
     "text": [
      "309    1\n",
      "812    0\n",
      "296    0\n",
      "345    1\n",
      "69     0\n",
      "      ..\n",
      "725    0\n",
      "516    1\n",
      "585    1\n",
      "492    0\n",
      "201    0\n",
      "Name: Survived, Length: 218, dtype: int64\n"
     ]
    }
   ],
   "source": [
    "print (y_test)"
   ]
  },
  {
   "cell_type": "code",
   "execution_count": 227,
   "id": "257b0cbb-7b04-49c2-aca1-af51b2940b0c",
   "metadata": {},
   "outputs": [
    {
     "name": "stdout",
     "output_type": "stream",
     "text": [
      "[1 0 0 1 0 0 0 1 0 1 0 0 0 0 0 1 0 0 1 1 0 0 0 0 0 1 0 0 1 0 0 0 0 0 0 1 1\n",
      " 1 0 0 1 0 1 1 0 0 1 1 0 0 0 0 0 0 0 1 0 0 0 1 0 0 0 0 0 1 0 0 1 1 0 1 0 0\n",
      " 0 1 0 0 1 1 0 0 0 0 0 0 1 0 0 0 1 0 0 0 0 0 1 0 1 1 0 1 1 0 0 0 0 0 0 1 0\n",
      " 1 1 1 0 0 1 0 0 0 0 1 0 1 0 1 1 0 0 0 0 1 0 1 1 1 0 1 0 0 0 0 1 1 0 0 0 0\n",
      " 0 0 1 1 0 1 1 1 0 1 1 1 0 0 0 0 1 0 0 0 1 0 0 0 0 1 1 0 0 0 0 0 1 1 1 0 0\n",
      " 1 0 0 0 0 0 0 1 0 0 0 0 0 1 1 1 0 0 0 0 0 0 0 0 0 0 1 0 0 1 1 0 0]\n"
     ]
    }
   ],
   "source": [
    "print (prediction)"
   ]
  },
  {
   "cell_type": "markdown",
   "id": "458f2f7f-a124-4917-b663-140971415430",
   "metadata": {},
   "source": [
    "## 6. Evaluar el desempeño del modelo en el conjunto de Test con métricas como precisión, recall, F1-score, etc."
   ]
  },
  {
   "cell_type": "code",
   "execution_count": 228,
   "id": "1ee126d0-e44c-477d-9d2b-191a76dfea86",
   "metadata": {},
   "outputs": [
    {
     "name": "stdout",
     "output_type": "stream",
     "text": [
      "              precision    recall  f1-score   support\n",
      "\n",
      "           0       0.80      0.88      0.84       133\n",
      "           1       0.78      0.66      0.71        85\n",
      "\n",
      "    accuracy                           0.79       218\n",
      "   macro avg       0.79      0.77      0.78       218\n",
      "weighted avg       0.79      0.79      0.79       218\n",
      "\n"
     ]
    }
   ],
   "source": [
    "# Desempeño del modelo de regresion\n",
    "print(classification_report(y_test, prediction)) # compara lo que deberia ser vs lo que se predijo"
   ]
  },
  {
   "cell_type": "markdown",
   "id": "dedf6811-7b29-418b-bfc6-5221976f90bf",
   "metadata": {},
   "source": [
    "## 7. Realizar las diferentes gráficas que permitan visualizar los resultados del modelo."
   ]
  },
  {
   "cell_type": "code",
   "execution_count": 229,
   "id": "ed9bc602-e36f-420f-9893-29ae73ca622d",
   "metadata": {},
   "outputs": [
    {
     "data": {
      "text/plain": [
       "<sklearn.metrics._plot.confusion_matrix.ConfusionMatrixDisplay at 0x1ad13f76a90>"
      ]
     },
     "execution_count": 229,
     "metadata": {},
     "output_type": "execute_result"
    },
    {
     "data": {
      "image/png": "[encoded data removed]",
      "text/plain": [
       "<Figure size 640x480 with 2 Axes>"
      ]
     },
     "metadata": {},
     "output_type": "display_data"
    }
   ],
   "source": [
    "# matriz de confusion\n",
    "cm = confusion_matrix(y_test, prediction)\n",
    "disp = metrics.ConfusionMatrixDisplay(confusion_matrix = cm)\n",
    "disp.plot()"
   ]
  },
  {
   "cell_type": "code",
   "execution_count": 230,
   "id": "0623ffd5-3c42-4a1f-a8b5-362b548b3255",
   "metadata": {},
   "outputs": [
    {
     "data": {
      "image/png": "[encoded data removed]",
      "text/plain": [
       "<Figure size 640x480 with 1 Axes>"
      ]
     },
     "metadata": {},
     "output_type": "display_data"
    }
   ],
   "source": [
    "# curva de precison del modelo\n",
    "from sklearn.metrics import RocCurveDisplay\n",
    "RocCurveDisplay.from_predictions(y_test, prediction)\n",
    "plt.show()"
   ]
  },
  {
   "cell_type": "markdown",
   "id": "72f5b6ee-6fe4-4c24-b8c7-385a981b8647",
   "metadata": {},
   "source": [
    "## 8. Interpretar, analizar y documentar los resultados obtenidos."
   ]
  },
  {
   "cell_type": "markdown",
   "id": "ebb90405-ae43-4060-b8fc-7fa3df7c9fab",
   "metadata": {},
   "source": [
    "Del desempeño del modelo se puede describir:\n",
    "\n",
    "- Precisión: Precisión mide la proporción de predicciones positivas verdaderas entre todas las predicciones positivas realizadas por el modelo. Aquí la precisión para la clase \"Survived\" es 0.80 para 0 y de 0.78 para 1, lo que significa que el 80% de los predichos como no sobrevivientes y el 78% predichos como sobrevivientes fueron correctos.\n",
    "- Recall: Mide la proporción de predicciones positivas verdaderas entre todas las instancias positivas reales en el conjunto de datos. Aquí el Recall para la clase \"Survived\" es 0.88 para 0 y 0.66 para 1, lo que indica que el modelo predijo correctamente al 88% de los que no sobrevivieron y al 66% de los que sí.\n",
    "- F1 Score: Es la media armónica de precisión y recuperación. Proporciona una puntuación única que equilibra la Precisión y Recall. Aquí la puntuación F1 para la clase \"Survived\" es 0.84 para 0 y 0.71 para 1, esto quiere decir que en efecto hay un equilibrio entre los métodos precisión y recall implementados en el modelo.\n",
    "\n",
    "De la Matriz de Confusión podemos interpretar:\n",
    "\n",
    "- Verdaderos negativos: el recuento de observaciones que un clasificador predijo correctamente como falso 117\n",
    "- Verdaderos positivos: el recuento de observaciones que un clasificador predijo correctamente como Verdadero 56\n",
    "- Falsos positivos: el recuento de observaciones que un clasificador predijo incorrectamente como Verdaderas 16\n",
    "- Falsos negativos: el recuento de observaciones que un clasificador predijo incorrectamente como falso 29\n",
    "\n",
    "De la curva de precisión del modelo se puede interpretar:\n",
    "\n",
    "- El AUC es 0.77 lo que significa que el 77 % de las predicciones del clasificador son correctas en todos los umbrales de clasificación."
   ]
  }
 ],
 "metadata": {
  "kernelspec": {
   "display_name": "Python 3 (ipykernel)",
   "language": "python",
   "name": "python3"
  },
  "language_info": {
   "codemirror_mode": {
    "name": "ipython",
    "version": 3
   },
   "file_extension": ".py",
   "mimetype": "text/x-python",
   "name": "python",
   "nbconvert_exporter": "python",
   "pygments_lexer": "ipython3",
   "version": "3.11.7"
  }
 },
 "nbformat": 4,
 "nbformat_minor": 5
}
